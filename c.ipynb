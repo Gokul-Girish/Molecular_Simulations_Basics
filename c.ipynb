{
 "cells": [
  {
   "cell_type": "markdown",
   "metadata": {},
   "source": [
    "# LAB 1 C ATOMS"
   ]
  },
  {
   "cell_type": "markdown",
   "metadata": {},
   "source": [
    "20ILMB03 </br>Gokul T G"
   ]
  },
  {
   "cell_type": "code",
   "execution_count": null,
   "metadata": {},
   "outputs": [],
   "source": [
    "##20ilmb03 _ Gokul _ Assignment 1 _ C atoms\n",
    "\n",
    "output = str(input(\"Enter the output file name of your choice : \"))\n",
    "numb = int(input(\"Enter the number of atoms needed in the lattice : \"))\n",
    "x_co = float(input(\"Enter the x coordinate of your first atom : \"))\n",
    "y_co = float(input(\"Enter the y coordinate of your first atom : \"))\n",
    "z_co = float(input(\"Enter the z coordinate of your first atom : \"))\n",
    "\n",
    "print(\"Please wait...\")\n",
    "\n",
    "def lattice_maker(output_file_name, number, x_co, y_co, z_co):\n",
    "  x = x_co\n",
    "  with open(f\"{output_file_name}.xyz\", \"w\") as file:\n",
    "    file.write(f\"{number}\\n\\n\")\n",
    "    for i in range (0,number):\n",
    "      file.write(f\"C {x} {y_co} {z_co}\\n\")\n",
    "      x+=3.0\n",
    "\n",
    "lattice_maker(output,numb,x_co,y_co,z_co)\n",
    "\n",
    "\n",
    "\n",
    "print(f\"Your output file is saved in the current directory as {output}.xyz\")\n",
    "\n",
    "qu = input(\"Make sure you change the drawing method to CPK, inorder to see the atoms. Do you want me to open this file in VMD for u? (y/n)\")\n",
    "if qu == \"y\" or qu == \"yes\":\n",
    "    print(f\"\\n\\n\\nTrying to open the file in VMD for you...please be patient...\\n\\n\\n\")\n",
    "\n",
    "    import subprocess\n",
    "    file_path = f\"./{output}.xyz\"\n",
    "    try:\n",
    "        subprocess.run(['vmd', file_path])\n",
    "    except FileNotFoundError:\n",
    "        print(\"VMD executable not found. Make sure VMD is installed and in your system's PATH.\")\n"
   ]
  }
 ],
 "metadata": {
  "language_info": {
   "name": "python"
  }
 },
 "nbformat": 4,
 "nbformat_minor": 2
}
