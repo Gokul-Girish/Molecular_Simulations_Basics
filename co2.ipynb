{
 "cells": [
  {
   "cell_type": "markdown",
   "metadata": {},
   "source": [
    "# LAB 1 CO2 LATTICE"
   ]
  },
  {
   "cell_type": "markdown",
   "metadata": {},
   "source": [
    "20ILMB03 </br>Gokul T G"
   ]
  },
  {
   "cell_type": "code",
   "execution_count": null,
   "metadata": {},
   "outputs": [],
   "source": [
    "##20ilmb03 _ Gokul _ Assignment 1 _ CO2 lattice\n",
    "\n",
    "print(\"Hi! Welcome to the CO2 cubical lattice generator.\\n Make sure the number of molecules in the lattice is a perfect cube. For example: 125, 1000 etc..\\n Have fun!\\n\")\n",
    "output = str(input(\"Enter the output file name of your choice : \"))\n",
    "numb = int(input(\"Enter the number of molecules needed in the lattice : \"))\n",
    "x_co = float(input(\"Enter the x coordinate of the carbon atom of your first molecule : \"))\n",
    "y_co = float(input(\"Enter the y coordinate of the carbon atom of your first molecule : \"))\n",
    "z_co = float(input(\"Enter the z coordinate of the carbon atom of your first molecule : \"))\n",
    "\n",
    "print(\"Please wait while your lattice is getting cooked...\")\n",
    "\n",
    "\n",
    "'''------The function------'''\n",
    "def lattice_maker(output_file_name, number_of_molecules, x_coordinate, y_coordinate, z_coordinate):\n",
    "    ic_x_c=float(x_coordinate)\n",
    "    ic_y_c=float(y_coordinate)\n",
    "    ic_z_c=float(z_coordinate)\n",
    "    c_x_c=ic_x_c\n",
    "    c_y_c=ic_y_c\n",
    "    c_z_c=ic_z_c\n",
    "    \n",
    "    number_of_atoms = 3*number_of_molecules\n",
    "    number = int(number_of_molecules**(1/3))\n",
    "    with open(f\"{output_file_name}.xyz\", \"w\") as file:\n",
    "        file.write(f\"{number_of_atoms}\\n\\n\")\n",
    "        for i in range (0,number+1):\n",
    "            c_y_c=ic_y_c\n",
    "            \n",
    "            for j in range (0,number+1):\n",
    "                c_z_c=ic_z_c\n",
    "                \n",
    "                for k in range (0,number+1):\n",
    "                    o1_x_c=c_x_c+1.6\n",
    "                    o1_y_c=c_y_c\n",
    "                    o1_z_c=c_z_c\n",
    "                    o2_x_c=c_x_c-1.6\n",
    "                    o2_y_c=c_y_c\n",
    "                    o2_z_c=c_z_c\n",
    "                    file.write(f\"C {c_x_c} {c_y_c} {c_z_c}\\n\")\n",
    "                    file.write(f\"O {o1_x_c} {o1_y_c} {o1_z_c}\\n\")\n",
    "                    file.write(f\"O {o2_x_c} {o2_y_c} {o2_z_c}\\n\")\n",
    "                    c_z_c+=4.0\n",
    "                c_y_c+=4.0\n",
    "            c_x_c+=6.0\n",
    "\n",
    "'''--------Function Ends Here--------'''\n",
    "\n",
    "\n",
    "lattice_maker(output,numb,x_co,y_co,z_co)\n",
    "\n",
    "\n",
    "print(f\"Your output file is saved in the current directory as {output}.xyz\")\n",
    "\n",
    "qu = input(\"Do you want to open this file in VMD?? (y/n)\")\n",
    "if qu == \"y\" or qu == \"yes\":\n",
    "    print(f\"\\n\\n\\nTrying to open the file in VMD for you...please be patient...\\n\\n\\n\")\n",
    "\n",
    "    import subprocess\n",
    "    file_path = f\"./{output}.xyz\"\n",
    "    try:\n",
    "        subprocess.run(['vmd', file_path])\n",
    "    except FileNotFoundError:\n",
    "        print(\"VMD executable not found. Make sure VMD is installed and in your system's PATH.\")"
   ]
  }
 ],
 "metadata": {
  "language_info": {
   "name": "python"
  }
 },
 "nbformat": 4,
 "nbformat_minor": 2
}
